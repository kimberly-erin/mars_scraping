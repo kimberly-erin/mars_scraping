{
 "cells": [
  {
   "cell_type": "code",
   "execution_count": 1,
   "metadata": {},
   "outputs": [],
   "source": [
    "import pandas as pd\n",
    "from splinter import Browser\n",
    "from selenium import webdriver\n",
    "from bs4 import BeautifulSoup\n",
    "import cssutils as css"
   ]
  },
  {
   "cell_type": "code",
   "execution_count": 2,
   "metadata": {},
   "outputs": [],
   "source": [
    "def init_browser():\n",
    "    executable_path = {'executable_path': 'chromedriver.exe'}\n",
    "    return Browser('chrome', **executable_path, headless=True)"
   ]
  },
  {
   "cell_type": "code",
   "execution_count": 3,
   "metadata": {},
   "outputs": [],
   "source": [
    "# Article about Mars\n",
    "def scrape_nasa():\n",
    "    browser = init_browser()\n",
    "    url = 'https://mars.nasa.gov/news/'\n",
    "    browser.visit(url)\n",
    "    \n",
    "    html = browser.html\n",
    "    soup = BeautifulSoup(html, 'html.parser')\n",
    "    \n",
    "    nasa = {}\n",
    "\n",
    "    nasa[\"headline\"] = soup.find('div', class_='content_title').text\n",
    "    nasa[\"article\"] = soup.find('div', class_='rollover_description_inner').text\n",
    "     \n",
    "    a_tab = soup.find('li', class_='slide').find('a')\n",
    "    article_link = a_tab.get('href')\n",
    "    nasa_url='https://mars.nasa.gov'\n",
    "    \n",
    "    nasa['article_url']=f'{nasa_url}{article_link}'\n",
    "    \n",
    "    return nasa"
   ]
  },
  {
   "cell_type": "code",
   "execution_count": 4,
   "metadata": {},
   "outputs": [],
   "source": [
    "# Featured Pictures of Mars\n",
    "def scrape_jpl():\n",
    "    browser = init_browser()\n",
    "    url = 'https://www.jpl.nasa.gov/spaceimages/?search=&category=Mars'\n",
    "    browser.visit(url)\n",
    "\n",
    "    html = browser.html\n",
    "    soup = BeautifulSoup(html, 'html.parser')\n",
    "\n",
    "    div_style = soup.find('article')['style']\n",
    "    style = css.parseStyle(div_style)\n",
    "    pic_link = style['background-image']\n",
    "\n",
    "    pic_link_clean = pic_link.replace('url(', '').replace(')', '')\n",
    "    featured_pic_url = f'https://www.jpl.nasa.gov{pic_link_clean}'\n",
    "    \n",
    "    jpl={'featured_pic_url':featured_pic_url}\n",
    "    \n",
    "    return jpl"
   ]
  },
  {
   "cell_type": "code",
   "execution_count": 5,
   "metadata": {},
   "outputs": [],
   "source": [
    "# Mars Weather\n",
    "def scrape_twitter():\n",
    "    browser = init_browser()\n",
    "    url = 'https://twitter.com/marswxreport?lang=en'\n",
    "    browser.visit(url)\n",
    "\n",
    "    html = browser.html\n",
    "    soup = BeautifulSoup(html, 'html.parser')\n",
    "\n",
    "    weather=[]\n",
    "\n",
    "    weather_search = soup.find_all('div', class_='js-tweet-text-container')\n",
    "\n",
    "    for w in weather_search:\n",
    "        if 'Sol' in w.text:\n",
    "            weather.append(w.text)\n",
    "            break    \n",
    "        else:\n",
    "            continue\n",
    "        \n",
    "\n",
    "    mars_weather = [w.strip() for w in weather]\n",
    "    mars_weather=str(mars_weather[0])\n",
    "    \n",
    "    twitter={'mars_weather': mars_weather}\n",
    "    \n",
    "    return twitter"
   ]
  },
  {
   "cell_type": "code",
   "execution_count": null,
   "metadata": {},
   "outputs": [],
   "source": [
    "# Facts about Mars\n",
    "def scrape_facts():\n",
    "    browser = init_browser()\n",
    "    url = 'http://space-facts.com/mars/'\n",
    "    browser.visit(url)\n",
    "\n",
    "    tables = pd.read_html(url)\n",
    "    tables\n",
    "\n",
    "    mars_df = tables[0]\n",
    "    mars_df.columns = ['Category','Stat']\n",
    "    mars_df\n",
    "    \n",
    "    mars_html_table = mars_df.to_html(index=False)\n",
    "    mars_html_table.replace('\\n', '')\n",
    "    \n",
    "\n",
    "    facts={'mars_html_table': mars_html_table}\n",
    "    \n",
    "    return facts\n"
   ]
  },
  {
   "cell_type": "code",
   "execution_count": null,
   "metadata": {},
   "outputs": [],
   "source": [
    "# Visualizations of Mars' Hemispheres\n",
    "def hemi():\n",
    "    hemis={}\n",
    "    Cerberus_url = 'https://astrogeology.usgs.gov/cache/images/cfa62af2557222a02478f1fcd781d445_cerberus_enhanced.tif_full.jpg'\n",
    "    Schiaparelli_url = 'https://astrogeology.usgs.gov/cache/images/3cdd1cbf5e0813bba925c9030d13b62e_schiaparelli_enhanced.tif_full.jpg'\n",
    "    Syrtis_Major_url = 'https://astrogeology.usgs.gov/cache/images/ae209b4e408bb6c3e67b6af38168cf28_syrtis_major_enhanced.tif_full.jpg'\n",
    "    Valles_Marineris_url = 'https://astrogeology.usgs.gov/cache/images/7cf2da4bf549ed01c17f206327be4db7_valles_marineris_enhanced.tif_full.jpg'\n",
    "\n",
    "    Cerberus = {'title': 'Cerberus Hemisphere', 'img_url': Cerberus_url}\n",
    "    Schiaparelli = {'title': 'Schiaparelli Hemisphere', 'img_url': Schiaparelli_url}\n",
    "    Syrtis_Major = {'title': 'Syrtis Major Hemisphere', 'img_url': Syrtis_Major_url}\n",
    "    Valles_Marineris = {'title': 'Valles Marineris Hemisphere', 'img_url': Valles_Marineris_url}\n",
    "    \n",
    "    hemis_list=[Cerberus, Schiaparelli, Syrtis_Major, Valles_Marineris]\n",
    "    hemis={'hemi': hemis_list}\n",
    "    \n",
    "    return hemis"
   ]
  },
  {
   "cell_type": "code",
   "execution_count": null,
   "metadata": {},
   "outputs": [],
   "source": []
  }
 ],
 "metadata": {
  "kernelspec": {
   "display_name": "Python [conda env:PythonData]",
   "language": "python",
   "name": "conda-env-PythonData-py"
  },
  "language_info": {
   "codemirror_mode": {
    "name": "ipython",
    "version": 3
   },
   "file_extension": ".py",
   "mimetype": "text/x-python",
   "name": "python",
   "nbconvert_exporter": "python",
   "pygments_lexer": "ipython3",
   "version": "3.6.4"
  }
 },
 "nbformat": 4,
 "nbformat_minor": 2
}
